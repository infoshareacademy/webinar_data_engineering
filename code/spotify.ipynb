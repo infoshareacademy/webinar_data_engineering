{
 "cells": [
  {
   "cell_type": "markdown",
   "metadata": {
    "application/vnd.databricks.v1+cell": {
     "cellMetadata": {},
     "inputWidgets": {},
     "nuid": "b0bf8b75-845c-4c88-b6ec-0d8b08f238d1",
     "showTitle": false,
     "tableResultSettingsMap": {},
     "title": ""
    }
   },
   "source": [
    "# Alchemia danych: Jak Data Engineer tworzy wartość?\n",
    "Witamy na webinarze infoShare Academy! Podczas tej sesji będziemy używać Pythona, aby zaprezentować kompletny przepływ pracy związany z przetwarzaniem danych. Oto, co omówimy:\n"
   ]
  },
  {
   "cell_type": "markdown",
   "metadata": {
    "application/vnd.databricks.v1+cell": {
     "cellMetadata": {},
     "inputWidgets": {},
     "nuid": "2efbf1fa-0cda-4b07-af28-c496436366dc",
     "showTitle": false,
     "tableResultSettingsMap": {},
     "title": ""
    }
   },
   "source": [
    "## Agenda\n",
    "1. Wprowadzenie do Pythona w przetwarzaniu danych\n",
    "- Przegląd Pythona i jego ekosystemu do przetwarzania danych.\n",
    "- Wprowadzenie do bibliotek, których będziemy używać: pandas i great_expectations.\n",
    "\n",
    "2. Pobieranie danych z API Spotify\n",
    "- Jak używać API Spotify do scrapowania danych.\n",
    "- Pobieranie istotnych informacji, takich jak szczegóły utworów, nazwy artystów, popularność i gatunki muzyczne.\n",
    "\n",
    "3. Prosty proces ETL (Extract, Transform, Load)\n",
    "- Ekstrakcja danych z API Spotify.\n",
    "- Transformacja danych do ustrukturyzowanego formatu za pomocą pandas.\n",
    "- Ładowanie przekształconych danych do DataFrame.\n",
    "\n",
    "4. Walidacja danych z Great Expectations\n",
    "- Wprowadzenie do walidacji danych i jej znaczenia.\n",
    "- Używanie great_expectations do walidacji danych.\n",
    "- Ustawianie oczekiwań, aby zapewnić jakość danych.\n",
    "\n",
    "5. Zapisywanie danych do CSV\n",
    "- Eksportowanie zwalidowanych danych do pliku CSV.\n",
    "- Upewnienie się, że dane są poprawnie zapisane do dalszej analizy lub udostępnienia."
   ]
  },
  {
   "cell_type": "markdown",
   "metadata": {
    "application/vnd.databricks.v1+cell": {
     "cellMetadata": {},
     "inputWidgets": {},
     "nuid": "a13b706b-10aa-42bc-bf78-bdac5f2ed3e9",
     "showTitle": false,
     "tableResultSettingsMap": {},
     "title": ""
    }
   },
   "source": [
    "## Narzędzia i biblioteki\n",
    "- Python: Język programowania, którego będziemy używać do całego przepływu pracy.\n",
    "- pandas: Potężna biblioteka do manipulacji danymi, która pomoże nam przekształcać i analizować dane.\n",
    "- great_expectations: Biblioteka do walidacji danych, która zapewni, że nasze dane spełniają wymagane standardy jakości.\n",
    "- Spotify API: Źródło naszych danych, z którego będziemy pobierać informacje o utworach i artystach."
   ]
  },
  {
   "cell_type": "markdown",
   "metadata": {
    "application/vnd.databricks.v1+cell": {
     "cellMetadata": {},
     "inputWidgets": {},
     "nuid": "dc6126e4-dbf9-471c-826b-54908a4665d5",
     "showTitle": false,
     "tableResultSettingsMap": {},
     "title": ""
    }
   },
   "source": [
    "## Wymagania wstępne\n",
    "\n",
    "- Podstawowa znajomość programowania w Pythonie.\n",
    "- Znajomość Jupyter Notebooks.\n",
    "- Zrozumienie API i sposobu interakcji z nimi."
   ]
  },
  {
   "cell_type": "markdown",
   "metadata": {
    "application/vnd.databricks.v1+cell": {
     "cellMetadata": {
      "byteLimit": 2048000,
      "rowLimit": 10000
     },
     "inputWidgets": {},
     "nuid": "df776af5-473d-4d4c-9f3e-f822ed62aa01",
     "showTitle": false,
     "tableResultSettingsMap": {},
     "title": ""
    }
   },
   "source": [
    "## Etap 1: Pobieranie danych z API Spotify\n",
    "W pierwszym etapie naszego webinaru skupimy się na pobieraniu danych z API Spotify. API Spotify pozwala na dostęp do szerokiej gamy informacji o utworach, artystach, albumach i playlistach. Wykorzystamy te dane do dalszej analizy i przetwarzania.\n",
    "\n",
    "Kroki do wykonania:\n",
    "1. Rejestracja aplikacji na Spotify Developer Dashboard\n",
    "\n",
    "- Aby uzyskać dostęp do API Spotify, musisz zarejestrować swoją aplikację na Spotify Developer Dashboard](https://developer.spotify.com/dashboard/applications).\n",
    "- Po zarejestrowaniu aplikacji otrzymasz `Client ID` i `Client Secret`, które będą potrzebne do autoryzacji."
   ]
  },
  {
   "cell_type": "markdown",
   "metadata": {},
   "source": [
    "![alt text](images/spotify_api.png \"Spotify API\")"
   ]
  },
  {
   "cell_type": "markdown",
   "metadata": {
    "application/vnd.databricks.v1+cell": {
     "cellMetadata": {},
     "inputWidgets": {},
     "nuid": "7ce08080-9f78-4eba-90c1-a48bc1842fe2",
     "showTitle": false,
     "tableResultSettingsMap": {},
     "title": ""
    }
   },
   "source": [
    "2. Upewnienie się, że zainstalowaliśmy bibliotekę `Spotipy` (lub instalacja biblioteki `Spotipy`)\n",
    "\n",
    "- Spotipy to biblioteka Pythona, która ułatwia interakcję z API Spotify.\n",
    "- Zainstaluj bibliotekę za pomocą poniższego polecenia:\n",
    "```python\n",
    "pip install spotipy\n",
    "```"
   ]
  },
  {
   "cell_type": "code",
   "execution_count": null,
   "metadata": {
    "ExecuteTime": {
     "end_time": "2024-11-27T15:59:28.032823Z",
     "start_time": "2024-11-27T15:59:27.994188Z"
    },
    "application/vnd.databricks.v1+cell": {
     "cellMetadata": {
      "byteLimit": 2048000,
      "rowLimit": 10000
     },
     "inputWidgets": {},
     "nuid": "0bc8fca8-ec38-4007-94c7-619e71ce1891",
     "showTitle": false,
     "tableResultSettingsMap": {},
     "title": ""
    }
   },
   "outputs": [],
   "source": [
    "import os\n",
    "import json\n",
    "import requests\n",
    "\n",
    "\n",
    "def get_access_token(client_id: str, client_secret: str, grant_type: str = \"client_credentials\") -> str:\n",
    "    \"\"\"\n",
    "    Retrieves an access token from the Spotify Accounts service.\n",
    "\n",
    "    Parameters:\n",
    "    client_id (str): The client ID provided by Spotify for your application.\n",
    "    client_secret (str): The client secret provided by Spotify for your application.\n",
    "    grant_type (str): The type of grant being requested. Default is \"client_credentials\".\n",
    "\n",
    "    Returns:\n",
    "    str: A string containing the access token prefixed with \"Bearer \".\n",
    "\n",
    "    Raises:\n",
    "    requests.exceptions.RequestException: If the request to the Spotify Accounts service fails.\n",
    "    KeyError: If the response does not contain an access token.\n",
    "\n",
    "    Example:\n",
    "    >>> get_access_token(\"your_client_id\", \"your_client_secret\")\n",
    "    'Bearer BQ...'\n",
    "\n",
    "    Note:\n",
    "    Ensure that you handle exceptions when calling this function, as network issues or invalid credentials can cause it to fail.\n",
    "    \"\"\"\n",
    "    url = \"https://accounts.spotify.com/api/token?grant_type={}&client_id={}&client_secret={}\".format(grant_type, client_id, client_secret)\n",
    "    response = requests.post(url, headers={'Content-Type':'application/x-www-form-urlencoded'})\n",
    "    access_token = \"Bearer \" + json.loads(response.text)[\"access_token\"]\n",
    "\n",
    "    return access_token"
   ]
  },
  {
   "cell_type": "code",
   "execution_count": null,
   "metadata": {},
   "outputs": [],
   "source": [
    "import os \n",
    "\n",
    "grant_type = \"client_credentials\"\n",
    "client_id = os.getenv(\"CLIENT_ID\")\n",
    "client_secret = os.getenv(\"CLIENT_SECRET\")\n",
    "access_token = get_access_token(client_id=client_id, client_secret=client_secret, grant_type=grant_type)"
   ]
  },
  {
   "cell_type": "code",
   "execution_count": null,
   "metadata": {},
   "outputs": [],
   "source": [
    "client_id"
   ]
  },
  {
   "cell_type": "code",
   "execution_count": null,
   "metadata": {
    "application/vnd.databricks.v1+cell": {
     "cellMetadata": {
      "byteLimit": 2048000,
      "rowLimit": 10000
     },
     "inputWidgets": {},
     "nuid": "92560aef-f5b3-47ce-ae47-d256ca5aab65",
     "showTitle": false,
     "tableResultSettingsMap": {},
     "title": ""
    }
   },
   "outputs": [],
   "source": [
    "def get_data(url: str, access_token: str) -> dict:\n",
    "    \"\"\"\n",
    "    Retrieves data from a specified URL using the provided access token for authorization.\n",
    "\n",
    "    Parameters:\n",
    "    url (str): The URL from which to retrieve data.\n",
    "    access_token (str): The access token to be used for authorization in the request header.\n",
    "\n",
    "    Returns:\n",
    "    dict: A dictionary containing the JSON response from the URL.\n",
    "\n",
    "    Raises:\n",
    "    requests.exceptions.RequestException: If the request to the URL fails.\n",
    "    json.JSONDecodeError: If the response is not valid JSON.\n",
    "    ValueError: If the response does not contain the expected data.\n",
    "\n",
    "    Example:\n",
    "    >>> get_data(\"https://api.spotify.com/v1/me\", \"Bearer BQ...\")\n",
    "    {'id': 'user_id', 'display_name': 'User Name', ...}\n",
    "    \"\"\"\n",
    "    try:\n",
    "        response = requests.get(url, headers={\"Authorization\": access_token})\n",
    "        response.raise_for_status()  # Raise an HTTPError for bad responses (4xx and 5xx)\n",
    "        result = response.json()  # Parse JSON response\n",
    "    except requests.exceptions.RequestException as e:\n",
    "        print(f\"Request failed: {e}\")\n",
    "        raise\n",
    "    except json.JSONDecodeError as e:\n",
    "        print(f\"Failed to parse JSON response: {e}\")\n",
    "        raise\n",
    "    except ValueError as e:\n",
    "        print(f\"Unexpected data format: {e}\")\n",
    "        raise\n",
    "\n",
    "    return result"
   ]
  },
  {
   "cell_type": "code",
   "execution_count": null,
   "metadata": {
    "application/vnd.databricks.v1+cell": {
     "cellMetadata": {
      "byteLimit": 2048000,
      "rowLimit": 10000
     },
     "inputWidgets": {},
     "nuid": "46473dea-a1fd-4cdb-affc-f2a58734a3c3",
     "showTitle": false,
     "tableResultSettingsMap": {},
     "title": ""
    }
   },
   "outputs": [],
   "source": [
    "import pandas as pd \n",
    "\n",
    "def get_spotify_tracks(access_token: str, n_of_tracks: int, genres: list) -> pd.DataFrame:\n",
    "    \"\"\"\n",
    "    Retrieves a specified number of tracks for each genre from the Spotify API and returns them as a DataFrame.\n",
    "\n",
    "    Parameters:\n",
    "    access_token (str): The access token to be used for authorization in the request header.\n",
    "    n_of_tracks (int): The number of tracks to retrieve for each genre.\n",
    "    genres (list): A list of genres for which to retrieve tracks.\n",
    "\n",
    "    Returns:\n",
    "    pd.DataFrame: A DataFrame containing the retrieved tracks with the following columns:\n",
    "        - track_id: The ID of the track.\n",
    "        - track_name: The name of the track.\n",
    "        - genre: The genre of the track.\n",
    "        - artist_name: The name of the artist.\n",
    "        - popularity: The popularity score of the track.\n",
    "        - duration_ms: The duration of the track in milliseconds.\n",
    "        - album_name: The name of the album.\n",
    "        - total_tracks_in_album: The total number of tracks in the album.\n",
    "\n",
    "    Raises:\n",
    "    requests.exceptions.RequestException: If the request to the Spotify API fails.\n",
    "    json.JSONDecodeError: If the response is not valid JSON.\n",
    "    ValueError: If the response does not contain the expected data.\n",
    "\n",
    "    Example:\n",
    "    >>> get_spotify_tracks(\"Bearer BQ...\", 10, [\"rock\", \"pop\"])\n",
    "    DataFrame with columns: track_id, track_name, genre, artist_name, popularity, duration_ms, album_name, total_tracks_in_album\n",
    "    \"\"\"\n",
    "    spotify_tracks = []\n",
    "\n",
    "    for genre in genres:\n",
    "        url = f\"https://api.spotify.com/v1/search?q=genre:{genre}&type=track&limit={n_of_tracks}&sort=popularity.desc\"\n",
    "        items = get_data(url=url, access_token=access_token)\n",
    "        \n",
    "        for track in items[\"tracks\"][\"items\"]:\n",
    "            track_info = {\n",
    "                \"track_id\": track[\"id\"],\n",
    "                \"track_name\": track[\"name\"],\n",
    "                \"genre\": genre,\n",
    "                \"artist_name\": track[\"artists\"][0][\"name\"],\n",
    "                \"popularity\": track[\"popularity\"],\n",
    "                \"duration_ms\": track[\"duration_ms\"],\n",
    "                \"album_name\": track[\"album\"][\"name\"],\n",
    "                \"total_tracks_in_album\": track[\"album\"][\"total_tracks\"],\n",
    "            }\n",
    "            spotify_tracks.append(track_info)\n",
    "\n",
    "    spotify_tracks_df = pd.DataFrame(spotify_tracks)\n",
    "    return spotify_tracks_df"
   ]
  },
  {
   "cell_type": "code",
   "execution_count": null,
   "metadata": {
    "application/vnd.databricks.v1+cell": {
     "cellMetadata": {
      "byteLimit": 2048000,
      "rowLimit": 10000
     },
     "inputWidgets": {},
     "nuid": "c7c0cf4f-47f5-4749-8e65-492db7eea267",
     "showTitle": false,
     "tableResultSettingsMap": {},
     "title": ""
    }
   },
   "outputs": [],
   "source": [
    "genres = [\"techno\", \"pop\", \"rock\", \"jazz\", \"classical\"]\n",
    "\n",
    "spotify_tracks_df = get_spotify_tracks(access_token=access_token, n_of_tracks=50, genres=genres)"
   ]
  },
  {
   "cell_type": "code",
   "execution_count": null,
   "metadata": {
    "application/vnd.databricks.v1+cell": {
     "cellMetadata": {
      "byteLimit": 2048000,
      "rowLimit": 10000
     },
     "inputWidgets": {},
     "nuid": "83ea4b00-1940-4e28-a68b-16ccad5f4646",
     "showTitle": false,
     "tableResultSettingsMap": {},
     "title": ""
    }
   },
   "outputs": [],
   "source": [
    "spotify_tracks_df"
   ]
  },
  {
   "cell_type": "markdown",
   "metadata": {
    "application/vnd.databricks.v1+cell": {
     "cellMetadata": {
      "byteLimit": 2048000,
      "rowLimit": 10000
     },
     "inputWidgets": {},
     "nuid": "6450b92f-fd77-4dc9-a7ec-637e18d99fed",
     "showTitle": false,
     "tableResultSettingsMap": {},
     "title": ""
    }
   },
   "source": [
    "Możemy za pomocą API dostać dużo ciekawych informacji np.: "
   ]
  },
  {
   "cell_type": "markdown",
   "metadata": {},
   "source": [
    "![alt text](images/audio_analysis.png \"Audio analysis API\")"
   ]
  },
  {
   "cell_type": "markdown",
   "metadata": {
    "application/vnd.databricks.v1+cell": {
     "cellMetadata": {},
     "inputWidgets": {},
     "nuid": "d9819316-afea-41d7-917c-35d5f1781164",
     "showTitle": false,
     "tableResultSettingsMap": {},
     "title": ""
    }
   },
   "source": [
    "## Etap 2: Transformacje\n",
    "\n",
    "### Transformacja danych obejmuje kilka kroków:\n",
    "\n",
    "- Grupowanie po gatunku: Dane są grupowane według gatunku muzycznego.\n",
    "- Obliczanie średniej popularności: Dla każdego gatunku obliczamy średnią wartość popularności utworów.\n",
    "- Obliczanie średniej długości utworów: Dla każdego gatunku obliczamy średnią długość utworów w milisekundach.\n",
    "- Obliczanie liczby utworów na albumie: Dla każdego albumu obliczamy liczbę utworów, a następnie obliczamy średnią liczbę utworów na albumie dla każdego gatunku.\n"
   ]
  },
  {
   "cell_type": "code",
   "execution_count": null,
   "metadata": {},
   "outputs": [],
   "source": [
    "# Group by genre and calculate avg values\n",
    "df_after_transformation = spotify_tracks_df.groupby(\"genre\").agg({\n",
    "  \"popularity\": \"mean\",\n",
    "  \"duration_ms\": \"mean\",\n",
    "  \"total_tracks_in_album\": \"mean\",\n",
    "}).reset_index()"
   ]
  },
  {
   "cell_type": "code",
   "execution_count": null,
   "metadata": {},
   "outputs": [],
   "source": [
    "df_after_transformation"
   ]
  },
  {
   "cell_type": "code",
   "execution_count": null,
   "metadata": {
    "application/vnd.databricks.v1+cell": {
     "cellMetadata": {
      "byteLimit": 2048000,
      "rowLimit": 10000
     },
     "inputWidgets": {},
     "nuid": "20e7d4f2-049d-4185-8765-28cc2a1da942",
     "showTitle": false,
     "tableResultSettingsMap": {},
     "title": ""
    }
   },
   "outputs": [],
   "source": [
    "# Rename columns for clarity\n",
    "df_after_transformation.columns = [\"genre\", \"avg_popularity\", \"avg_duration_ms\", \"avg_total_tracks_in_album\"]\n",
    "\n",
    "df_after_transformation"
   ]
  },
  {
   "cell_type": "code",
   "execution_count": null,
   "metadata": {},
   "outputs": [],
   "source": [
    "def format_duration(duration_ms: int) -> str:\n",
    "    minutes = duration_ms // 60000\n",
    "    seconds = (duration_ms % 60000) // 1000\n",
    "    return f\"{int(minutes)} min {int(seconds)} sec\""
   ]
  },
  {
   "cell_type": "code",
   "execution_count": null,
   "metadata": {
    "application/vnd.databricks.v1+cell": {
     "cellMetadata": {
      "byteLimit": 2048000,
      "rowLimit": 10000
     },
     "inputWidgets": {},
     "nuid": "db80825c-43be-44db-989a-30efc3e4373d",
     "showTitle": false,
     "tableResultSettingsMap": {},
     "title": ""
    }
   },
   "outputs": [],
   "source": [
    "# Calculate duration in format min and sec\n",
    "df_after_transformation[\"avg_duration_ms\"] = df_after_transformation[\"avg_duration_ms\"].apply(lambda duration_ms: format_duration(duration_ms))\n",
    "df_after_transformation"
   ]
  },
  {
   "cell_type": "code",
   "execution_count": null,
   "metadata": {},
   "outputs": [],
   "source": [
    "df_after_transformation.columns = [\"genre\", \"avg_popularity\", \"avg_duration\", \"avg_total_tracks_in_album\"]\n",
    "df_after_transformation"
   ]
  },
  {
   "cell_type": "code",
   "execution_count": null,
   "metadata": {
    "application/vnd.databricks.v1+cell": {
     "cellMetadata": {
      "byteLimit": 2048000,
      "rowLimit": 10000
     },
     "inputWidgets": {},
     "nuid": "c3f11663-4f79-4c8e-a6d4-963733b27af0",
     "showTitle": false,
     "tableResultSettingsMap": {},
     "title": ""
    }
   },
   "outputs": [],
   "source": [
    "df = df_after_transformation"
   ]
  },
  {
   "cell_type": "markdown",
   "metadata": {
    "application/vnd.databricks.v1+cell": {
     "cellMetadata": {},
     "inputWidgets": {},
     "nuid": "cacca413-0f45-4f7d-a059-8b73e7ee6fed",
     "showTitle": false,
     "tableResultSettingsMap": {},
     "title": ""
    }
   },
   "source": [
    "## Etap 3: Walidacja danych za pomocą Great Expectations\n",
    "\n",
    "W tym module będziemy używać biblioteki `Great Expectations` do walidacji danych zebranych z API Spotify. Naszym celem jest upewnienie się, że:\n",
    "- Kolumna genre zawiera tylko wartości z określonej listy gatunków muzycznych.\n",
    "- Wartości w kolumnie popularity mieszczą się w przedziale od 0 do 100.\n",
    "\n",
    "Link do biblioteki --> https://greatexpectations.io/ (w tym module wykorzystujemy wersję `0.18.21`)"
   ]
  },
  {
   "cell_type": "code",
   "execution_count": null,
   "metadata": {
    "application/vnd.databricks.v1+cell": {
     "cellMetadata": {
      "byteLimit": 2048000,
      "rowLimit": 10000
     },
     "inputWidgets": {},
     "nuid": "78fa48fd-8769-4ecc-8992-d888c3ae8bfd",
     "showTitle": false,
     "tableResultSettingsMap": {},
     "title": ""
    }
   },
   "outputs": [],
   "source": [
    "import great_expectations\n",
    "\n",
    "# Define the list of valid genres\n",
    "valid_genres = [\"techno\", \"pop\", \"rock\", \"jazz\", \"classical\"]"
   ]
  },
  {
   "cell_type": "code",
   "execution_count": null,
   "metadata": {},
   "outputs": [],
   "source": [
    "ge_df = great_expectations.from_pandas(df_after_transformation)"
   ]
  },
  {
   "cell_type": "code",
   "execution_count": null,
   "metadata": {
    "application/vnd.databricks.v1+cell": {
     "cellMetadata": {
      "byteLimit": 2048000,
      "rowLimit": 10000
     },
     "inputWidgets": {},
     "nuid": "7bda4618-fcda-484e-9835-15a45b77e984",
     "showTitle": false,
     "tableResultSettingsMap": {},
     "title": ""
    }
   },
   "outputs": [],
   "source": [
    "# Check if genre is in the list of valid genres\n",
    "genre_expectation = ge_df.expect_column_values_to_be_in_set(\"genre\", valid_genres)\n",
    "genre_expectation"
   ]
  },
  {
   "cell_type": "code",
   "execution_count": null,
   "metadata": {
    "application/vnd.databricks.v1+cell": {
     "cellMetadata": {
      "byteLimit": 2048000,
      "rowLimit": 10000
     },
     "inputWidgets": {},
     "nuid": "a13d2f71-9b7d-43e4-9212-be6334e2f8e1",
     "showTitle": false,
     "tableResultSettingsMap": {},
     "title": ""
    }
   },
   "outputs": [],
   "source": [
    "# Check if avg_popularity is between 0 and 100\n",
    "popularity_expectation = ge_df.expect_column_values_to_be_between(\"avg_popularity\", 0, 100)\n",
    "popularity_expectation\n"
   ]
  },
  {
   "cell_type": "markdown",
   "metadata": {
    "application/vnd.databricks.v1+cell": {
     "cellMetadata": {},
     "inputWidgets": {},
     "nuid": "d2682941-d5d5-47af-b5db-45846c1c078f",
     "showTitle": false,
     "tableResultSettingsMap": {},
     "title": ""
    }
   },
   "source": [
    "## Etap 4: Zapisanie danych do pliku CSV\n",
    "\n",
    "W tym etapie zapiszemy przetworzone i zweryfikowane dane do pliku CSV. Dzięki temu będziemy mogli łatwo udostępniać dane lub używać ich w innych aplikacjach.\n",
    "\n",
    "Kroki:\n",
    "- Przetworzenie danych: Upewnimy się, że dane są przetworzone i zweryfikowane zgodnie z naszymi oczekiwaniami.\n",
    "- Zapisanie do pliku CSV: Użyjemy funkcji to_csv z biblioteki pandas, aby zapisać dane do pliku CSV."
   ]
  },
  {
   "cell_type": "code",
   "execution_count": null,
   "metadata": {
    "application/vnd.databricks.v1+cell": {
     "cellMetadata": {
      "byteLimit": 2048000,
      "rowLimit": 10000
     },
     "inputWidgets": {},
     "nuid": "349d7504-325c-4a60-8cc5-9b477c174469",
     "showTitle": false,
     "tableResultSettingsMap": {},
     "title": ""
    }
   },
   "outputs": [],
   "source": [
    "# Zapisz DataFrame do pliku CSV\n",
    "\n",
    "df.to_csv(\"spotify_summary.csv\", index=False)"
   ]
  },
  {
   "cell_type": "markdown",
   "metadata": {
    "application/vnd.databricks.v1+cell": {
     "cellMetadata": {},
     "inputWidgets": {},
     "nuid": "5fd787a9-b1ec-4c16-842b-d416e3e8baa1",
     "showTitle": false,
     "tableResultSettingsMap": {},
     "title": ""
    }
   },
   "source": [
    "Koniec tej części demo :) "
   ]
  },
  {
   "cell_type": "code",
   "execution_count": null,
   "metadata": {
    "application/vnd.databricks.v1+cell": {
     "cellMetadata": {},
     "inputWidgets": {},
     "nuid": "88f63135-0e89-4dc0-b66c-cd060f31701f",
     "showTitle": false,
     "tableResultSettingsMap": {},
     "title": ""
    }
   },
   "outputs": [],
   "source": []
  }
 ],
 "metadata": {
  "application/vnd.databricks.v1+notebook": {
   "dashboards": [],
   "environmentMetadata": {
    "base_environment": "",
    "client": "1"
   },
   "language": "python",
   "notebookMetadata": {
    "pythonIndentUnit": 4
   },
   "notebookName": "spotify",
   "widgets": {}
  },
  "kernelspec": {
   "display_name": "Python 3 (ipykernel)",
   "language": "python",
   "name": "python3"
  },
  "language_info": {
   "codemirror_mode": {
    "name": "ipython",
    "version": 3
   },
   "file_extension": ".py",
   "mimetype": "text/x-python",
   "name": "python",
   "nbconvert_exporter": "python",
   "pygments_lexer": "ipython3",
   "version": "3.9.7"
  }
 },
 "nbformat": 4,
 "nbformat_minor": 4
}
